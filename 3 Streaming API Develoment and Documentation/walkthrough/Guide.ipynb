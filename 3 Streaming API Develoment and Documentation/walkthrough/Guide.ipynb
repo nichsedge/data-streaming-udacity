{
 "cells": [
  {
   "cell_type": "markdown",
   "metadata": {
    "editable": false
   },
   "source": [
    "# Parse a JSON payload into separate fields for analysis\n",
    "\n",
    "- Start Kafka:\n",
    "    - From the terminal type: ```/home/workspace/startup/startup.sh```\n",
    "- Start the spark master and spark worker\n",
    "     - From the terminal type: ```/home/workspace/spark/sbin/start-master.sh```\n",
    "     - View the log and copy down the Spark URI\n",
    "     - From the terminal type: ```/home/workspace/spark/sbin/start-slave.sh [Spark URI]```\n",
    "- Complete the vehicle-status.py python script\n",
    "- Submit the application to the spark cluster:\n",
    "     - From the terminal type: \n",
    "     ```/home/workspace/spark/submit-vehicle-status.sh```\n",
    "- Watch the terminal for the values to scroll past\n",
    "    "
   ]
  },
  {
   "cell_type": "markdown",
   "metadata": {
    "editable": false
   },
   "source": [
    "<!--\n",
    "%%ulab_page_divider\n",
    "--><hr/>"
   ]
  },
  {
   "cell_type": "markdown",
   "metadata": {
    "editable": false
   },
   "source": [
    "# Join streaming dataframes from different sources\n",
    "\n",
    "- Confirm Kafka and Spark are still running\n",
    "    - From the terminal type: ```ps -ef```\n",
    "If not running, then start Kafka and Spark as follows\n",
    "- Start Kafka\n",
    "    - From the terminal type: ```/home/workspace/startup/startup.sh```\n",
    "- Start the spark master and spark worker\n",
    "     - From the terminal type: ```/home/workspace/spark/sbin/start-master.sh```\n",
    "     - View the log and copy down the Spark URI\n",
    "     - From the terminal type: ```/home/workspace/spark/sbin/start-slave.sh [Spark URI]```\n",
    "- Complete the vehicle-checkin.py python script\n",
    "- Submit the application to the spark cluster:\n",
    "     - From the terminal type: \n",
    "     ```/home/workspace/submit-vehicle-checkin.sh```\n",
    "- Watch the terminal for the values to scroll past\n",
    "    "
   ]
  },
  {
   "cell_type": "markdown",
   "metadata": {
    "editable": false
   },
   "source": [
    "<!--\n",
    "%%ulab_page_divider\n",
    "--><hr/>"
   ]
  },
  {
   "cell_type": "markdown",
   "metadata": {
    "editable": false
   },
   "source": [
    "# Write a Streaming Dataframe to Kafka\n",
    "\n",
    "- Start Kafka\n",
    "    - From the terminal type: ```/home/workspace/startup/startup.sh```\n",
    "- Start the spark master and spark worker\n",
    "     - From the terminal type: ```/home/workspace/spark/sbin/start-master.sh```\n",
    "     - View the log and copy down the Spark URI\n",
    "     - From the terminal type: ```/home/workspace/spark/sbin/start-slave.sh [Spark URI]```\n",
    "- Update the vehicle-checkin.py python script\n",
    "- Submit the application to the spark cluster:\n",
    "     - From the terminal type: \n",
    "     ```/home/workspace/submit-vehicle-checkin.sh```\n",
    "- Using the kafka-console-consumer attach to the kafka topic and monitor the payload\n",
    "    "
   ]
  },
  {
   "cell_type": "markdown",
   "metadata": {
    "editable": false
   },
   "source": []
  }
 ],
 "metadata": {
  "kernelspec": {
   "display_name": "Python 3",
   "language": "python",
   "name": "python3"
  },
  "language_info": {
   "codemirror_mode": {
    "name": "ipython",
    "version": 3
   },
   "file_extension": ".py",
   "mimetype": "text/x-python",
   "name": "python",
   "nbconvert_exporter": "python",
   "pygments_lexer": "ipython3",
   "version": "3.7.3"
  },
  "ulab_nb_type": "guided"
 },
 "nbformat": 4,
 "nbformat_minor": 4
}
